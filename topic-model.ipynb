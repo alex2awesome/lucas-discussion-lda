{
 "cells": [
  {
   "cell_type": "markdown",
   "metadata": {},
   "source": [
    "# Process"
   ]
  },
  {
   "cell_type": "code",
   "execution_count": 6,
   "metadata": {},
   "outputs": [],
   "source": [
    "file = open('RLEM_subs.txt').read()"
   ]
  },
  {
   "cell_type": "code",
   "execution_count": 17,
   "metadata": {},
   "outputs": [
    {
     "data": {
      "text/plain": [
       "35241"
      ]
     },
     "execution_count": 17,
     "metadata": {},
     "output_type": "execute_result"
    }
   ],
   "source": [
    "## num words\n",
    "words = file.split()\n",
    "len(words)"
   ]
  },
  {
   "cell_type": "code",
   "execution_count": 26,
   "metadata": {},
   "outputs": [],
   "source": [
    "num_words_per_doc = 100\n",
    "docs = list(map(lambda x: ' '.join(words[x: x + num_words_per_doc]), range(0, len(words), num_words_per_doc)))"
   ]
  },
  {
   "cell_type": "code",
   "execution_count": 22,
   "metadata": {},
   "outputs": [
    {
     "data": {
      "text/plain": [
       "353"
      ]
     },
     "execution_count": 22,
     "metadata": {},
     "output_type": "execute_result"
    }
   ],
   "source": [
    "## num docs\n",
    "len(docs)"
   ]
  },
  {
   "cell_type": "markdown",
   "metadata": {},
   "source": [
    "# Run LDA"
   ]
  },
  {
   "cell_type": "code",
   "execution_count": 30,
   "metadata": {},
   "outputs": [],
   "source": [
    "import pandas as pd \n",
    "from gensim.sklearn_api import LdaTransformer\n",
    "from gensim.corpora import Dictionary\n",
    "from sklearn.base import BaseEstimator, MetaEstimatorMixin\n",
    "import re\n",
    "from sklearn.pipeline import Pipeline\n",
    "from sklearn.feature_extraction.text import CountVectorizer\n",
    "from collections import defaultdict\n",
    "\n",
    "class CV2BOW(BaseEstimator, MetaEstimatorMixin):\n",
    "    \"\"\"Transform a corpus into Bag-of-Word representation.\"\"\"\n",
    "    def fit(self, X, y=None):\n",
    "        return self\n",
    "        \n",
    "    def transform(self, X):\n",
    "        t = X.tocoo()\n",
    "\n",
    "        # (token_id, token_count)\n",
    "        docs = defaultdict(list)\n",
    "        for d, r, c in list(zip(t.data, t.row, t.col)):\n",
    "            docs[r].append((c, d))\n",
    "        docs = list(map(lambda x: docs[x], range(len(docs))))\n",
    "        return docs\n",
    "\n",
    "pipeline__lda = Pipeline([\n",
    "    ('cv', CountVectorizer(min_df=.01, max_df=0.5, stop_words='english')),\n",
    "    ('doc2bow', CV2BOW()),\n",
    "    ('lda', LdaTransformer(num_topics=10, iterations=50)),\n",
    "])"
   ]
  },
  {
   "cell_type": "code",
   "execution_count": 31,
   "metadata": {},
   "outputs": [],
   "source": [
    "docs_s = pd.Series(docs)\n",
    "lda = pipeline__lda.fit_transform(docs)\n",
    "beta_matrix = pd.DataFrame(\n",
    "    data=pipeline__lda['lda'].gensim_model.expElogbeta,\n",
    "    columns=sorted(pipeline__lda['cv'].vocabulary_)\n",
    ").T\n",
    "\n",
    "top_words = {}\n",
    "for col in beta_matrix.columns:\n",
    "    topic = beta_matrix[col].sort_values(ascending=False)\n",
    "    topic_key = '%s, %s, %s' % (topic.index[0], topic.index[1], topic.index[2])\n",
    "    top_words[topic_key] = list(topic.iloc[3:10].index)"
   ]
  },
  {
   "cell_type": "code",
   "execution_count": 32,
   "metadata": {},
   "outputs": [
    {
     "data": {
      "text/html": [
       "<div>\n",
       "<style scoped>\n",
       "    .dataframe tbody tr th:only-of-type {\n",
       "        vertical-align: middle;\n",
       "    }\n",
       "\n",
       "    .dataframe tbody tr th {\n",
       "        vertical-align: top;\n",
       "    }\n",
       "\n",
       "    .dataframe thead th {\n",
       "        text-align: right;\n",
       "    }\n",
       "</style>\n",
       "<table border=\"1\" class=\"dataframe\">\n",
       "  <thead>\n",
       "    <tr style=\"text-align: right;\">\n",
       "      <th></th>\n",
       "      <th>know, right, ll</th>\n",
       "      <th>model, learning, energy</th>\n",
       "      <th>function, like, know</th>\n",
       "      <th>know, going, thank</th>\n",
       "      <th>energy, know, learning</th>\n",
       "      <th>control, like, actually</th>\n",
       "      <th>know, energy, like</th>\n",
       "      <th>learning, control, know</th>\n",
       "      <th>like, thank, different</th>\n",
       "      <th>model, know, like</th>\n",
       "    </tr>\n",
       "  </thead>\n",
       "  <tbody>\n",
       "    <tr>\n",
       "      <th>0</th>\n",
       "      <td>just</td>\n",
       "      <td>policy</td>\n",
       "      <td>actually</td>\n",
       "      <td>policy</td>\n",
       "      <td>building</td>\n",
       "      <td>think</td>\n",
       "      <td>different</td>\n",
       "      <td>like</td>\n",
       "      <td>try</td>\n",
       "      <td>building</td>\n",
       "    </tr>\n",
       "    <tr>\n",
       "      <th>1</th>\n",
       "      <td>okay</td>\n",
       "      <td>just</td>\n",
       "      <td>thing</td>\n",
       "      <td>just</td>\n",
       "      <td>just</td>\n",
       "      <td>know</td>\n",
       "      <td>thank</td>\n",
       "      <td>state</td>\n",
       "      <td>energy</td>\n",
       "      <td>controller</td>\n",
       "    </tr>\n",
       "    <tr>\n",
       "      <th>2</th>\n",
       "      <td>let</td>\n",
       "      <td>reinforcement</td>\n",
       "      <td>control</td>\n",
       "      <td>like</td>\n",
       "      <td>like</td>\n",
       "      <td>right</td>\n",
       "      <td>just</td>\n",
       "      <td>time</td>\n",
       "      <td>data</td>\n",
       "      <td>learning</td>\n",
       "    </tr>\n",
       "    <tr>\n",
       "      <th>3</th>\n",
       "      <td>minutes</td>\n",
       "      <td>control</td>\n",
       "      <td>controller</td>\n",
       "      <td>right</td>\n",
       "      <td>yeah</td>\n",
       "      <td>question</td>\n",
       "      <td>kind</td>\n",
       "      <td>actually</td>\n",
       "      <td>agents</td>\n",
       "      <td>state</td>\n",
       "    </tr>\n",
       "    <tr>\n",
       "      <th>4</th>\n",
       "      <td>don</td>\n",
       "      <td>agent</td>\n",
       "      <td>use</td>\n",
       "      <td>using</td>\n",
       "      <td>reinforcement</td>\n",
       "      <td>learning</td>\n",
       "      <td>okay</td>\n",
       "      <td>reinforcement</td>\n",
       "      <td>demand</td>\n",
       "      <td>based</td>\n",
       "    </tr>\n",
       "    <tr>\n",
       "      <th>5</th>\n",
       "      <td>rl</td>\n",
       "      <td>using</td>\n",
       "      <td>set</td>\n",
       "      <td>control</td>\n",
       "      <td>price</td>\n",
       "      <td>building</td>\n",
       "      <td>actually</td>\n",
       "      <td>just</td>\n",
       "      <td>really</td>\n",
       "      <td>function</td>\n",
       "    </tr>\n",
       "    <tr>\n",
       "      <th>6</th>\n",
       "      <td>really</td>\n",
       "      <td>like</td>\n",
       "      <td>point</td>\n",
       "      <td>set</td>\n",
       "      <td>time</td>\n",
       "      <td>model</td>\n",
       "      <td>right</td>\n",
       "      <td>set</td>\n",
       "      <td>just</td>\n",
       "      <td>kind</td>\n",
       "    </tr>\n",
       "  </tbody>\n",
       "</table>\n",
       "</div>"
      ],
      "text/plain": [
       "  know, right, ll model, learning, energy function, like, know  \\\n",
       "0            just                  policy             actually   \n",
       "1            okay                    just                thing   \n",
       "2             let           reinforcement              control   \n",
       "3         minutes                 control           controller   \n",
       "4             don                   agent                  use   \n",
       "5              rl                   using                  set   \n",
       "6          really                    like                point   \n",
       "\n",
       "  know, going, thank energy, know, learning control, like, actually  \\\n",
       "0             policy               building                   think   \n",
       "1               just                   just                    know   \n",
       "2               like                   like                   right   \n",
       "3              right                   yeah                question   \n",
       "4              using          reinforcement                learning   \n",
       "5            control                  price                building   \n",
       "6                set                   time                   model   \n",
       "\n",
       "  know, energy, like learning, control, know like, thank, different  \\\n",
       "0          different                    like                    try   \n",
       "1              thank                   state                 energy   \n",
       "2               just                    time                   data   \n",
       "3               kind                actually                 agents   \n",
       "4               okay           reinforcement                 demand   \n",
       "5           actually                    just                 really   \n",
       "6              right                     set                   just   \n",
       "\n",
       "  model, know, like  \n",
       "0          building  \n",
       "1        controller  \n",
       "2          learning  \n",
       "3             state  \n",
       "4             based  \n",
       "5          function  \n",
       "6              kind  "
      ]
     },
     "execution_count": 32,
     "metadata": {},
     "output_type": "execute_result"
    }
   ],
   "source": [
    "pd.DataFrame(top_words)"
   ]
  },
  {
   "cell_type": "code",
   "execution_count": null,
   "metadata": {},
   "outputs": [],
   "source": []
  }
 ],
 "metadata": {
  "kernelspec": {
   "display_name": "Python 3",
   "language": "python",
   "name": "python3"
  },
  "language_info": {
   "codemirror_mode": {
    "name": "ipython",
    "version": 3
   },
   "file_extension": ".py",
   "mimetype": "text/x-python",
   "name": "python",
   "nbconvert_exporter": "python",
   "pygments_lexer": "ipython3",
   "version": "3.7.6"
  }
 },
 "nbformat": 4,
 "nbformat_minor": 4
}
